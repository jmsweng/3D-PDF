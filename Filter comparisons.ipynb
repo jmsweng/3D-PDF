{
 "cells": [
  {
   "cell_type": "code",
   "execution_count": 16,
   "metadata": {},
   "outputs": [],
   "source": [
    "import numpy as np\n",
    "import matplotlib.pyplot as plt\n",
    "from numba import jit, autojit, prange\n",
    "# Disable inline plots\n",
    "%matplotlib qt"
   ]
  },
  {
   "cell_type": "code",
   "execution_count": 2,
   "metadata": {},
   "outputs": [],
   "source": [
    "# Pad dataset before filter based on window provided\n",
    "# Give data set (d_set), and window width (x)\n",
    "# Needs numpy as np\n",
    "@jit\n",
    "def winpad(d_set, x):\n",
    "    if (x % 2 == 0): # Check if window is even\n",
    "        raise Exception('Window width must be odd!')\n",
    "    rad = np.int(np.floor(x/2)) # Calculate radius of window given\n",
    "    pad = np.pad(d_set, rad, 'edge')\n",
    "    return pad\n",
    "# Optimized modified 3D hampel filter\n",
    "# Runs in parallel on CPU\n",
    "# Removes nans from center region of volume that corresponds to ~10% the volume width and replaces with zero\n",
    "# Only applies filter to voxels with finite values \n",
    "# Uses a cube moving window, center point in window is checked\n",
    "# Returns mean/median value that has the least difference between the original value for outliers\n",
    "# Input dataset (dset) and window width (x)\n",
    "# Input an odd window or the window will be asymmetric and stuff breaks\n",
    "\n",
    "from numba import autojit, prange\n",
    "@jit(parallel=True)\n",
    "def mod_3d_hampel(d_set, width):\n",
    "    if (width % 2 == 0): # Check if window is even\n",
    "        raise Exception('Window width must be odd!')\n",
    "    shape = np.shape(d_set) # Get shape of input data set\n",
    "    out = np.zeros(shape) # Generate set of zeros same shape as input data set\n",
    "    # Remove nans from center of image\n",
    "    # This might not actually be necessary\n",
    "    rad = (shape[0]/2)*0.1 # Radius for center region to remove nans from, ~10% of total volume width\n",
    "    a, b = shape[0]/2-rad, shape[0]/2+rad # Bounds for center region to remove nans\n",
    "    a=int(a) # Change to int values\n",
    "    b=int(b) \n",
    "    d_set[a:b, a:b, a:b] = np.nan_to_num(d_set[a:b, a:b, a:b]) # Remove nans from center of volume\n",
    "    x_pos, y_pos, z_pos = np.where(np.isfinite(d_set)) # Get location of finite values (pixels to be filtered)\n",
    "    # Remove nans and very large positive/negative values before filtering\n",
    "    d_set = np.nan_to_num(d_set)\n",
    "    d_set[d_set>1e+100]=0\n",
    "    d_set[d_set<1e-100]=0\n",
    "    # Create padded data set to avoid windowing issues with values at edge\n",
    "    temp = winpad(d_set, width)\n",
    "    # Get loop length by taking length of list of pixels to be filtered\n",
    "    length = len(x_pos)\n",
    "    # Apply filter over pixels\n",
    "    for i in prange (0, length):\n",
    "        x, y, z = x_pos[i], y_pos[i], z_pos[i]\n",
    "        # Outlier detection, basically the same as is_outlier_mm function\n",
    "        # Only here to reduce overhead from function calls\n",
    "        dat = temp[x:x+width, y:y+width, z:z+width]\n",
    "        val = d_set[x, y, z]\n",
    "        med = np.median(dat) # Get median of input data set\n",
    "        mean = np.mean(dat) # Get mean of input data set\n",
    "        mad = np.median(np.abs(dat- med)) # Get median absolute deviation\n",
    "        asigma = np.abs(mad*3*1.4826) # Absolute value of approximate sigma\n",
    "        if (med-asigma) < val < (med+asigma): # Check if value is outlier based on MAD\n",
    "            out[x, y, z] = val # Return value if it is not an outlier\n",
    "            continue\n",
    "        if np.abs(mean-val) > np.abs(med-val):\n",
    "            out[x, y, z] = med # Return median if abs(med-val) is smaller than abs(mean-val)\n",
    "            continue\n",
    "        else:\n",
    "            out[x, y, z] = mean # Return mean if abs(med-val) is l arger than abs(mean-val)\n",
    "            continue\n",
    "    \n",
    "    return out\n",
    "# This filter makse weird negative correlations after the FT for some reason where they shouldn't be\n",
    "# Don't use\n",
    "# Optimized 3D hampel filter\n",
    "# Runs in parallel on CPU\n",
    "# Removes nans from center region of volume that corresponds to ~10% the volume width and replaces with zero\n",
    "# Only applies filter to voxels with finite values \n",
    "# Uses a cube moving window, center point in window is checked\n",
    "# Returns median value for outliers\n",
    "# Input dataset (dset) and window width (x)\n",
    "# Input an odd window or the window will be asymmetric and stuff breaks\n",
    "\n",
    "from numba import autojit, prange\n",
    "@jit(parallel=True)\n",
    "def norm_3d_hampel(d_set, width):\n",
    "    if (width % 2 == 0): # Check if window is even\n",
    "        raise Exception('Window width must be odd!')\n",
    "    shape = np.shape(d_set) # Get shape of input data set\n",
    "    out = np.zeros(shape) # Generate set of zeros same shape as input data set\n",
    "    # Remove nans from center of image\n",
    "    # This might not actually be necessary\n",
    "    rad = (shape[0]/2)*0.1 # Radius for center region to remove nans from, ~10% of total volume width\n",
    "    a, b = shape[0]/2-rad, shape[0]/2+rad # Bounds for center region to remove nans\n",
    "    a=int(a) # Change to int values\n",
    "    b=int(b) \n",
    "    d_set[a:b, a:b, a:b] = np.nan_to_num(d_set[a:b, a:b, a:b]) # Remove nans from center of volume\n",
    "    x_pos, y_pos, z_pos = np.where(np.isfinite(d_set)) # Get location of finite values (pixels to be filtered)\n",
    "    # Remove nans and very large positive/negative values before filtering\n",
    "    d_set = np.nan_to_num(d_set)\n",
    "    d_set[d_set>1e+100]=0\n",
    "    d_set[d_set<1e-100]=0\n",
    "    # Create padded data set to avoid windowing issues with values at edge\n",
    "    temp = winpad(d_set, width)\n",
    "    # Get loop length by taking length of list of pixels to be filtered\n",
    "    length = len(x_pos)\n",
    "    # Apply filter over pixels\n",
    "    for i in prange (0, length):\n",
    "        x, y, z = x_pos[i], y_pos[i], z_pos[i]\n",
    "        # Outlier detection, basically the same as is_outlier_mm function\n",
    "        # Only here to reduce overhead from function calls\n",
    "        dat = temp[x:x+width, y:y+width, z:z+width]\n",
    "        val = d_set[x, y, z]\n",
    "        med = np.median(dat) # Get median of input data set\n",
    "        mean = np.mean(dat) # Get mean of input data set\n",
    "        mad = np.median(np.abs(dat- med)) # Get median absolute deviation\n",
    "        asigma = np.abs(mad*3*1.4826) # Absolute value of approximate sigma\n",
    "        if (med-asigma) < val < (med+asigma): # Check if value is outlier based on MAD\n",
    "            out[x, y, z] = val # Return value if it is not an outlier\n",
    "            continue\n",
    "        else:\n",
    "            out[x, y, z] = med # Return median if value is outlier\n",
    "            continue\n",
    "    \n",
    "    return out\n",
    "# Does a 1D ft, doesn't need to be rolled over\n",
    "@jit\n",
    "def ft(signal):\n",
    "    return np.fft.fftshift(np.fft.fftn(np.fft.ifftshift(signal)))\n",
    "# Fourier transform 2D slices of an image\n",
    "@jit\n",
    "def ft_slices(data):\n",
    "    shape = np.shape(data) # Get shape of input data\n",
    "    fslices = np.zeros(shape, dtype = np.complex_) # Array of complex zeros with same shape as input data\n",
    "    l1 = shape[0] # Number of 2D slices through 3D volume\n",
    "    for i in range (0, l1):\n",
    "        fslices[i] = ft(data[i]) # Assign FT of individual slices to corresponding slice in zero array\n",
    "        #print(i, end = ' ') # Testing counter printout\n",
    "    return fslices\n",
    "# Take FT of columns through 2D slices\n",
    "@jit\n",
    "def ft_columns(data):\n",
    "    shape = np.shape(data) # Get shape of input data\n",
    "    out = np.zeros(shape, dtype = np.complex_) # Array of complex zeros with same shape as input data\n",
    "    l1 = shape[0] # Total number of loops for y dim\n",
    "    l2 = shape[1] # Total number of loops for z dim\n",
    "    for i in range (0, l1): # Loop through y\n",
    "        for j in range (0, l2): # Loop through z\n",
    "            out[:, i, j] = ft(data[:, i, j]) # Assign FT through x axis to corresponding region of zero array\n",
    "        #print (i, end = ' ') # Testing counter printout\n",
    "    return out\n",
    "# Take 3D FT by taking FT of 2D slices through an image and then 1D columns perpendicular to slices\n",
    "@jit\n",
    "def ft_3d(data):\n",
    "    slices = ft_slices(data)\n",
    "    cols = ft_columns(slices)\n",
    "    return cols"
   ]
  },
  {
   "cell_type": "code",
   "execution_count": 3,
   "metadata": {},
   "outputs": [],
   "source": [
    "# No significant difference seen with original modified hampel other than slightly lower SNR\n",
    "# Returns mean of window excluding checked value for values detected to be outliers\n",
    "from numba import autojit, prange\n",
    "@jit(parallel=True)\n",
    "def mod2_3d_hampel(d_set, width):\n",
    "    if (width % 2 == 0): # Check if window is even\n",
    "        raise Exception('Window width must be odd!')\n",
    "    shape = np.shape(d_set) # Get shape of input data set\n",
    "    winrad = np.floor(np.divide(width, 2)) # Window radius\n",
    "    out = np.zeros(shape) # Generate set of zeros same shape as input data set\n",
    "    # Remove nans from center of image\n",
    "    # This might not actually be necessary\n",
    "    rad = (shape[0]/2)*0.1 # Radius for center region to remove nans from, ~10% of total volume width\n",
    "    a, b = shape[0]/2-rad, shape[0]/2+rad # Bounds for center region to remove nans\n",
    "    a=int(a) # Change to int values\n",
    "    b=int(b) \n",
    "    d_set[a:b, a:b, a:b] = np.nan_to_num(d_set[a:b, a:b, a:b]) # Remove nans from center of volume\n",
    "    x_pos, y_pos, z_pos = np.where(np.isfinite(d_set)) # Get location of finite values (pixels to be filtered)\n",
    "    # Remove nans and very large positive/negative values before filtering\n",
    "    d_set = np.nan_to_num(d_set)\n",
    "    d_set[d_set>1e+100]=0\n",
    "    d_set[d_set<1e-100]=0\n",
    "    # Create padded data set to avoid windowing issues with values at edge\n",
    "    temp = winpad(d_set, width)\n",
    "    # Get loop length by taking length of list of pixels to be filtered\n",
    "    length = len(x_pos)\n",
    "    # Apply filter over pixels\n",
    "    for i in prange (0, length):\n",
    "        x, y, z = x_pos[i], y_pos[i], z_pos[i]\n",
    "        # Outlier detection, basically the same as is_outlier_mm function\n",
    "        # Only here to reduce overhead from function calls\n",
    "        dat = temp[x:x+width, y:y+width, z:z+width]\n",
    "        val = d_set[x, y, z]\n",
    "        med = np.median(dat) # Get median of input data set\n",
    "        mean = np.mean(np.concatenate((dat[0:winrad], dat[winrad+1:]))) # Get mean of input data set without center value\n",
    "        mad = np.median(np.abs(dat- med)) # Get median absolute deviation\n",
    "        asigma = np.abs(mad*3*1.4826) # Absolute value of approximate sigma\n",
    "        if (med-asigma) < val < (med+asigma): # Check if value is outlier based on MAD\n",
    "            out[x, y, z] = val # Return value if it is not an outlier\n",
    "            continue\n",
    "        if np.abs(mean-val) > np.abs(med-val):\n",
    "            out[x, y, z] = med # Return median if abs(med-val) is smaller than abs(mean-val)\n",
    "            continue\n",
    "        else:\n",
    "            out[x, y, z] = mean # Return mean if abs(med-val) is l arger than abs(mean-val)\n",
    "            continue\n",
    "    \n",
    "    return out\n",
    "\n",
    "# Lower SNR for positive correlations, don't use\n",
    "# Returns 2x median of window for values detected to be outliers\n",
    "from numba import autojit, prange\n",
    "@jit(parallel=True)\n",
    "def mod3_3d_hampel(d_set, width):\n",
    "    if (width % 2 == 0): # Check if window is even\n",
    "        raise Exception('Window width must be odd!')\n",
    "    shape = np.shape(d_set) # Get shape of input data set\n",
    "    winrad = np.floor(np.divide(width, 2)) # Window radius\n",
    "    out = np.zeros(shape) # Generate set of zeros same shape as input data set\n",
    "    # Remove nans from center of image\n",
    "    # This might not actually be necessary\n",
    "    rad = (shape[0]/2)*0.1 # Radius for center region to remove nans from, ~10% of total volume width\n",
    "    a, b = shape[0]/2-rad, shape[0]/2+rad # Bounds for center region to remove nans\n",
    "    a=int(a) # Change to int values\n",
    "    b=int(b) \n",
    "    d_set[a:b, a:b, a:b] = np.nan_to_num(d_set[a:b, a:b, a:b]) # Remove nans from center of volume\n",
    "    x_pos, y_pos, z_pos = np.where(np.isfinite(d_set)) # Get location of finite values (pixels to be filtered)\n",
    "    # Remove nans and very large positive/negative values before filtering\n",
    "    d_set = np.nan_to_num(d_set)\n",
    "    d_set[d_set>1e+100]=0\n",
    "    d_set[d_set<1e-100]=0\n",
    "    # Create padded data set to avoid windowing issues with values at edge\n",
    "    temp = winpad(d_set, width)\n",
    "    # Get loop length by taking length of list of pixels to be filtered\n",
    "    length = len(x_pos)\n",
    "    # Apply filter over pixels\n",
    "    for i in prange (0, length):\n",
    "        x, y, z = x_pos[i], y_pos[i], z_pos[i]\n",
    "        # Outlier detection, basically the same as is_outlier_mm function\n",
    "        # Only here to reduce overhead from function calls\n",
    "        dat = temp[x:x+width, y:y+width, z:z+width]\n",
    "        val = d_set[x, y, z]\n",
    "        med = np.median(dat) # Get median of input data set\n",
    "        mad = np.median(np.abs(dat- med)) # Get median absolute deviation\n",
    "        asigma = np.abs(mad*3*1.4826) # Absolute value of approximate sigma\n",
    "        if (med-asigma) < val < (med+asigma): # Check if value is outlier based on MAD\n",
    "            out[x, y, z] = val # Return value if it is not an outlier\n",
    "            continue\n",
    "        else:\n",
    "            out[x, y, z] = 3*med # Return mean if abs(med-val) is l arger than abs(mean-val)\n",
    "            continue\n",
    "    \n",
    "    return out\n",
    "\n",
    "# Creates weird negative correlations, do not use\n",
    "# Returns 2x value for non outliers\n",
    "# Returns mean for outliers\n",
    "from numba import autojit, prange\n",
    "@jit(parallel=True)\n",
    "def mod4_3d_hampel(d_set, width):\n",
    "    if (width % 2 == 0): # Check if window is even\n",
    "        raise Exception('Window width must be odd!')\n",
    "    shape = np.shape(d_set) # Get shape of input data set\n",
    "    out = np.zeros(shape) # Generate set of zeros same shape as input data set\n",
    "    # Remove nans from center of image\n",
    "    # This might not actually be necessary\n",
    "    rad = (shape[0]/2)*0.1 # Radius for center region to remove nans from, ~10% of total volume width\n",
    "    a, b = shape[0]/2-rad, shape[0]/2+rad # Bounds for center region to remove nans\n",
    "    a=int(a) # Change to int values\n",
    "    b=int(b) \n",
    "    d_set[a:b, a:b, a:b] = np.nan_to_num(d_set[a:b, a:b, a:b]) # Remove nans from center of volume\n",
    "    x_pos, y_pos, z_pos = np.where(np.isfinite(d_set)) # Get location of finite values (pixels to be filtered)\n",
    "    # Remove nans and very large positive/negative values before filtering\n",
    "    d_set = np.nan_to_num(d_set)\n",
    "    d_set[d_set>1e+100]=0\n",
    "    d_set[d_set<1e-100]=0\n",
    "    # Create padded data set to avoid windowing issues with values at edge\n",
    "    temp = winpad(d_set, width)\n",
    "    # Get loop length by taking length of list of pixels to be filtered\n",
    "    length = len(x_pos)\n",
    "    # Apply filter over pixels\n",
    "    for i in prange (0, length):\n",
    "        x, y, z = x_pos[i], y_pos[i], z_pos[i]\n",
    "        # Outlier detection, basically the same as is_outlier_mm function\n",
    "        # Only here to reduce overhead from function calls\n",
    "        dat = temp[x:x+width, y:y+width, z:z+width]\n",
    "        val = d_set[x, y, z]\n",
    "        med = np.median(dat) # Get median of input data set\n",
    "        mean = np.mean(dat) # Get mean of input data set\n",
    "        mad = np.median(np.abs(dat- med)) # Get median absolute deviation\n",
    "        asigma = np.abs(mad*3*1.4826) # Absolute value of approximate sigma\n",
    "        if (med-asigma) < val < (med+asigma): # Check if value is outlier based on MAD\n",
    "            out[x, y, z] = 2*val # Return value if it is not an outlier\n",
    "            continue\n",
    "        else:\n",
    "            out[x, y, z] = mean # Return median if value is outlier\n",
    "            continue\n",
    "    \n",
    "    return out\n",
    "# Improved SNR over mod1\n",
    "# Returns 3x median of window for values detected to be outliers\n",
    "from numba import autojit, prange\n",
    "@jit(parallel=True)\n",
    "def mod5_3d_hampel(d_set, width):\n",
    "    if (width % 2 == 0): # Check if window is even\n",
    "        raise Exception('Window width must be odd!')\n",
    "    shape = np.shape(d_set) # Get shape of input data set\n",
    "    winrad = np.floor(np.divide(width, 2)) # Window radius\n",
    "    out = np.zeros(shape) # Generate set of zeros same shape as input data set\n",
    "    # Remove nans from center of image\n",
    "    # This might not actually be necessary\n",
    "    rad = (shape[0]/2)*0.1 # Radius for center region to remove nans from, ~10% of total volume width\n",
    "    a, b = shape[0]/2-rad, shape[0]/2+rad # Bounds for center region to remove nans\n",
    "    a=int(a) # Change to int values\n",
    "    b=int(b) \n",
    "    d_set[a:b, a:b, a:b] = np.nan_to_num(d_set[a:b, a:b, a:b]) # Remove nans from center of volume\n",
    "    x_pos, y_pos, z_pos = np.where(np.isfinite(d_set)) # Get location of finite values (pixels to be filtered)\n",
    "    # Remove nans and very large positive/negative values before filtering\n",
    "    d_set = np.nan_to_num(d_set)\n",
    "    d_set[d_set>1e+100]=0\n",
    "    d_set[d_set<1e-100]=0\n",
    "    # Create padded data set to avoid windowing issues with values at edge\n",
    "    temp = winpad(d_set, width)\n",
    "    # Get loop length by taking length of list of pixels to be filtered\n",
    "    length = len(x_pos)\n",
    "    # Apply filter over pixels\n",
    "    for i in prange (0, length):\n",
    "        x, y, z = x_pos[i], y_pos[i], z_pos[i]\n",
    "        # Outlier detection, basically the same as is_outlier_mm function\n",
    "        # Only here to reduce overhead from function calls\n",
    "        dat = temp[x:x+width, y:y+width, z:z+width]\n",
    "        val = d_set[x, y, z]\n",
    "        med = np.median(dat) # Get median of input data set\n",
    "        mad = np.median(np.abs(dat- med)) # Get median absolute deviation\n",
    "        asigma = np.abs(mad*3*1.4826) # Absolute value of approximate sigma\n",
    "        if (med-asigma) < val < (med+asigma): # Check if value is outlier based on MAD\n",
    "            out[x, y, z] = val # Return value if it is not an outlier\n",
    "            continue\n",
    "        else:\n",
    "            out[x, y, z] = 3*med # Return mean if abs(med-val) is l arger than abs(mean-val)\n",
    "            continue\n",
    "    \n",
    "    return out\n",
    "# Improved SNR over mod1, lower SNR than mod5\n",
    "# Returns median+(mad*3*1.4826) of window for values detected to be outliers\n",
    "from numba import autojit, prange\n",
    "@jit(parallel=True)\n",
    "def mod6_3d_hampel(d_set, width):\n",
    "    if (width % 2 == 0): # Check if window is even\n",
    "        raise Exception('Window width must be odd!')\n",
    "    shape = np.shape(d_set) # Get shape of input data set\n",
    "    winrad = np.floor(np.divide(width, 2)) # Window radius\n",
    "    out = np.zeros(shape) # Generate set of zeros same shape as input data set\n",
    "    # Remove nans from center of image\n",
    "    # This might not actually be necessary\n",
    "    rad = (shape[0]/2)*0.1 # Radius for center region to remove nans from, ~10% of total volume width\n",
    "    a, b = shape[0]/2-rad, shape[0]/2+rad # Bounds for center region to remove nans\n",
    "    a=int(a) # Change to int values\n",
    "    b=int(b) \n",
    "    d_set[a:b, a:b, a:b] = np.nan_to_num(d_set[a:b, a:b, a:b]) # Remove nans from center of volume\n",
    "    x_pos, y_pos, z_pos = np.where(np.isfinite(d_set)) # Get location of finite values (pixels to be filtered)\n",
    "    # Remove nans and very large positive/negative values before filtering\n",
    "    d_set = np.nan_to_num(d_set)\n",
    "    d_set[d_set>1e+100]=0\n",
    "    d_set[d_set<1e-100]=0\n",
    "    # Create padded data set to avoid windowing issues with values at edge\n",
    "    temp = winpad(d_set, width)\n",
    "    # Get loop length by taking length of list of pixels to be filtered\n",
    "    length = len(x_pos)\n",
    "    # Apply filter over pixels\n",
    "    for i in prange (0, length):\n",
    "        x, y, z = x_pos[i], y_pos[i], z_pos[i]\n",
    "        # Outlier detection, basically the same as is_outlier_mm function\n",
    "        # Only here to reduce overhead from function calls\n",
    "        dat = temp[x:x+width, y:y+width, z:z+width]\n",
    "        val = d_set[x, y, z]\n",
    "        med = np.median(dat) # Get median of input data set\n",
    "        mad = np.median(np.abs(dat- med)) # Get median absolute deviation\n",
    "        asigma = np.abs(mad*3*1.4826) # Absolute value of approximate sigma\n",
    "        if (med-asigma) < val < (med+asigma): # Check if value is outlier based on MAD\n",
    "            out[x, y, z] = val # Return value if it is not an outlier\n",
    "            continue\n",
    "        else:\n",
    "            out[x, y, z] = med+asigma # Return mean if abs(med-val) is l arger than abs(mean-val)\n",
    "            continue\n",
    "    \n",
    "    return out\n",
    "# Slightly worse than mod5\n",
    "# Returns median+2*(mad*3*1.4826) of window for values detected to be outliers\n",
    "from numba import autojit, prange\n",
    "@jit(parallel=True)\n",
    "def mod7_3d_hampel(d_set, width):\n",
    "    if (width % 2 == 0): # Check if window is even\n",
    "        raise Exception('Window width must be odd!')\n",
    "    shape = np.shape(d_set) # Get shape of input data set\n",
    "    winrad = np.floor(np.divide(width, 2)) # Window radius\n",
    "    out = np.zeros(shape) # Generate set of zeros same shape as input data set\n",
    "    # Remove nans from center of image\n",
    "    # This might not actually be necessary\n",
    "    rad = (shape[0]/2)*0.1 # Radius for center region to remove nans from, ~10% of total volume width\n",
    "    a, b = shape[0]/2-rad, shape[0]/2+rad # Bounds for center region to remove nans\n",
    "    a=int(a) # Change to int values\n",
    "    b=int(b) \n",
    "    d_set[a:b, a:b, a:b] = np.nan_to_num(d_set[a:b, a:b, a:b]) # Remove nans from center of volume\n",
    "    x_pos, y_pos, z_pos = np.where(np.isfinite(d_set)) # Get location of finite values (pixels to be filtered)\n",
    "    # Remove nans and very large positive/negative values before filtering\n",
    "    d_set = np.nan_to_num(d_set)\n",
    "    d_set[d_set>1e+100]=0\n",
    "    d_set[d_set<1e-100]=0\n",
    "    # Create padded data set to avoid windowing issues with values at edge\n",
    "    temp = winpad(d_set, width)\n",
    "    # Get loop length by taking length of list of pixels to be filtered\n",
    "    length = len(x_pos)\n",
    "    # Apply filter over pixels\n",
    "    for i in prange (0, length):\n",
    "        x, y, z = x_pos[i], y_pos[i], z_pos[i]\n",
    "        # Outlier detection, basically the same as is_outlier_mm function\n",
    "        # Only here to reduce overhead from function calls\n",
    "        dat = temp[x:x+width, y:y+width, z:z+width]\n",
    "        val = d_set[x, y, z]\n",
    "        med = np.median(dat) # Get median of input data set\n",
    "        mad = np.median(np.abs(dat- med)) # Get median absolute deviation\n",
    "        asigma = np.abs(mad*3*1.4826) # Absolute value of approximate sigma\n",
    "        if (med-asigma) < val < (med+asigma): # Check if value is outlier based on MAD\n",
    "            out[x, y, z] = val # Return value if it is not an outlier\n",
    "            continue\n",
    "        else:\n",
    "            out[x, y, z] = med+2*asigma # Return mean if abs(med-val) is l arger than abs(mean-val)\n",
    "            continue\n",
    "    \n",
    "    return out\n",
    "\n",
    "# Very slightly worse than mod5\n",
    "# Returns median+4*(mad*1.4826) of window for values detected to be outliers\n",
    "from numba import autojit, prange\n",
    "@jit(parallel=True)\n",
    "def mod8_3d_hampel(d_set, width):\n",
    "    if (width % 2 == 0): # Check if window is even\n",
    "        raise Exception('Window width must be odd!')\n",
    "    shape = np.shape(d_set) # Get shape of input data set\n",
    "    winrad = np.floor(np.divide(width, 2)) # Window radius\n",
    "    out = np.zeros(shape) # Generate set of zeros same shape as input data set\n",
    "    # Remove nans from center of image\n",
    "    # This might not actually be necessary\n",
    "    rad = (shape[0]/2)*0.1 # Radius for center region to remove nans from, ~10% of total volume width\n",
    "    a, b = shape[0]/2-rad, shape[0]/2+rad # Bounds for center region to remove nans\n",
    "    a=int(a) # Change to int values\n",
    "    b=int(b) \n",
    "    d_set[a:b, a:b, a:b] = np.nan_to_num(d_set[a:b, a:b, a:b]) # Remove nans from center of volume\n",
    "    x_pos, y_pos, z_pos = np.where(np.isfinite(d_set)) # Get location of finite values (pixels to be filtered)\n",
    "    # Remove nans and very large positive/negative values before filtering\n",
    "    d_set = np.nan_to_num(d_set)\n",
    "    d_set[d_set>1e+100]=0\n",
    "    d_set[d_set<1e-100]=0\n",
    "    # Create padded data set to avoid windowing issues with values at edge\n",
    "    temp = winpad(d_set, width)\n",
    "    # Get loop length by taking length of list of pixels to be filtered\n",
    "    length = len(x_pos)\n",
    "    # Apply filter over pixels\n",
    "    for i in prange (0, length):\n",
    "        x, y, z = x_pos[i], y_pos[i], z_pos[i]\n",
    "        # Outlier detection, basically the same as is_outlier_mm function\n",
    "        # Only here to reduce overhead from function calls\n",
    "        dat = temp[x:x+width, y:y+width, z:z+width]\n",
    "        val = d_set[x, y, z]\n",
    "        med = np.median(dat) # Get median of input data set\n",
    "        mad = np.median(np.abs(dat- med)) # Get median absolute deviation\n",
    "        asigma = np.abs(mad*3*1.4826) # Absolute value of approximate sigma\n",
    "        if (med-asigma) < val < (med+asigma): # Check if value is outlier based on MAD\n",
    "            out[x, y, z] = val # Return value if it is not an outlier\n",
    "            continue\n",
    "        else:\n",
    "            out[x, y, z] = med+4*mad*1.4826 # Return mean if abs(med-val) is l arger than abs(mean-val)\n",
    "            continue\n",
    "    \n",
    "    return out\n",
    "\n",
    "# Marginally better than mod5\n",
    "# Returns median+3.5*(mad*1.4826) of window for values detected to be outliers\n",
    "from numba import autojit, prange\n",
    "@jit(parallel=True)\n",
    "def mod9_3d_hampel(d_set, width):\n",
    "    if (width % 2 == 0): # Check if window is even\n",
    "        raise Exception('Window width must be odd!')\n",
    "    shape = np.shape(d_set) # Get shape of input data set\n",
    "    winrad = np.floor(np.divide(width, 2)) # Window radius\n",
    "    out = np.zeros(shape) # Generate set of zeros same shape as input data set\n",
    "    # Remove nans from center of image\n",
    "    # This might not actually be necessary\n",
    "    rad = (shape[0]/2)*0.1 # Radius for center region to remove nans from, ~10% of total volume width\n",
    "    a, b = shape[0]/2-rad, shape[0]/2+rad # Bounds for center region to remove nans\n",
    "    a=int(a) # Change to int values\n",
    "    b=int(b) \n",
    "    d_set[a:b, a:b, a:b] = np.nan_to_num(d_set[a:b, a:b, a:b]) # Remove nans from center of volume\n",
    "    x_pos, y_pos, z_pos = np.where(np.isfinite(d_set)) # Get location of finite values (pixels to be filtered)\n",
    "    # Remove nans and very large positive/negative values before filtering\n",
    "    d_set = np.nan_to_num(d_set)\n",
    "    d_set[d_set>1e+100]=0\n",
    "    d_set[d_set<1e-100]=0\n",
    "    # Create padded data set to avoid windowing issues with values at edge\n",
    "    temp = winpad(d_set, width)\n",
    "    # Get loop length by taking length of list of pixels to be filtered\n",
    "    length = len(x_pos)\n",
    "    # Apply filter over pixels\n",
    "    for i in prange (0, length):\n",
    "        x, y, z = x_pos[i], y_pos[i], z_pos[i]\n",
    "        # Outlier detection, basically the same as is_outlier_mm function\n",
    "        # Only here to reduce overhead from function calls\n",
    "        dat = temp[x:x+width, y:y+width, z:z+width]\n",
    "        val = d_set[x, y, z]\n",
    "        med = np.median(dat) # Get median of input data set\n",
    "        mad = np.median(np.abs(dat- med)) # Get median absolute deviation\n",
    "        asigma = np.abs(mad*3*1.4826) # Absolute value of approximate sigma\n",
    "        if (med-asigma) < val < (med+asigma): # Check if value is outlier based on MAD\n",
    "            out[x, y, z] = val # Return value if it is not an outlier\n",
    "            continue\n",
    "        else:\n",
    "            out[x, y, z] = med+3.5*mad*1.4826 # Return mean if abs(med-val) is l arger than abs(mean-val)\n",
    "            continue\n",
    "    \n",
    "    return out\n",
    "\n",
    "# \n",
    "# Returns median+3.5*(mad*1.4826) of window for values detected to be outliers\n",
    "from numba import autojit, prange\n",
    "@jit(parallel=True)\n",
    "def mod10_3d_hampel(d_set, width):\n",
    "    if (width % 2 == 0): # Check if window is even\n",
    "        raise Exception('Window width must be odd!')\n",
    "    shape = np.shape(d_set) # Get shape of input data set\n",
    "    winrad = np.floor(np.divide(width, 2)) # Window radius\n",
    "    out = np.zeros(shape) # Generate set of zeros same shape as input data set\n",
    "    # Remove nans from center of image\n",
    "    # This might not actually be necessary\n",
    "    rad = (shape[0]/2)*0.1 # Radius for center region to remove nans from, ~10% of total volume width\n",
    "    a, b = shape[0]/2-rad, shape[0]/2+rad # Bounds for center region to remove nans\n",
    "    a=int(a) # Change to int values\n",
    "    b=int(b) \n",
    "    d_set[a:b, a:b, a:b] = np.nan_to_num(d_set[a:b, a:b, a:b]) # Remove nans from center of volume\n",
    "    x_pos, y_pos, z_pos = np.where(np.isfinite(d_set)) # Get location of finite values (pixels to be filtered)\n",
    "    # Remove nans and very large positive/negative values before filtering\n",
    "    d_set = np.nan_to_num(d_set)\n",
    "    d_set[d_set>1e+100]=0\n",
    "    d_set[d_set<1e-100]=0\n",
    "    # Create padded data set to avoid windowing issues with values at edge\n",
    "    temp = winpad(d_set, width)\n",
    "    # Get loop length by taking length of list of pixels to be filtered\n",
    "    length = len(x_pos)\n",
    "    # Apply filter over pixels\n",
    "    for i in prange (0, length):\n",
    "        x, y, z = x_pos[i], y_pos[i], z_pos[i]\n",
    "        # Outlier detection, basically the same as is_outlier_mm function\n",
    "        # Only here to reduce overhead from function calls\n",
    "        dat = temp[x:x+width, y:y+width, z:z+width]\n",
    "        val = d_set[x, y, z]\n",
    "        med = np.median(dat) # Get median of input data set\n",
    "        mad = np.median(np.abs(dat- med)) # Get median absolute deviation\n",
    "        asigma = np.abs(mad*3*1.4826) # Absolute value of approximate sigma\n",
    "        if (med-asigma) < val < (med+asigma): # Check if value is outlier based on MAD\n",
    "            out[x, y, z] = val # Return value if it is not an outlier\n",
    "            continue\n",
    "        else:\n",
    "            out[x, y, z] = np.divide((3*med)+(med+3.5*mad*1.4826), 2) # Return mean if abs(med-val) is l arger than abs(mean-val)\n",
    "            continue\n",
    "    \n",
    "    return out"
   ]
  },
  {
   "cell_type": "code",
   "execution_count": 4,
   "metadata": {},
   "outputs": [],
   "source": []
  },
  {
   "cell_type": "code",
   "execution_count": null,
   "metadata": {},
   "outputs": [],
   "source": []
  },
  {
   "cell_type": "code",
   "execution_count": 47,
   "metadata": {},
   "outputs": [],
   "source": [
    "g = np.load('gaussian window function.npy')\n",
    "pmn = np.load('benzil_300K_bkg_subtract_sym_All_noCC_flat2.npy')\n",
    "pmn = np.multiply(g, pmn)"
   ]
  },
  {
   "cell_type": "code",
   "execution_count": 48,
   "metadata": {},
   "outputs": [],
   "source": [
    "#fpmn = mod_3d_hampel(pmn, 3)\n",
    "#fpmn2 = mod3_3d_hampel(pmn, 11)\n",
    "#htest = norm_3d_hampel(pmn, 5)\n",
    "#ftest = mod9_3d_hampel(pmn, 5)\n",
    "#mod5 = mod5_3d_hampel(pmn, 5)\n",
    "mod9 = mod9_3d_hampel(pmn, 5)\n",
    "#mod95 = mod10_3d_hampel(pmn, 5)\n",
    "#mod97 = mod10_3d_hampel(pmn, 7)\n",
    "#mod99 = mod10_3d_hampel(pmn, 9)\n",
    "#mod911 = mod10_3d_hampel(pmn, 11)\n",
    "#mod10 = mod10_3d_hampel(pmn, 5)\n",
    "#nhamp = norm_3d_hampel(pmn, 5)\n",
    "#test = mod9_3d_hampel(pmn, 11)\n",
    "#test2 = mod10_3d_hampel(pmn, 5)"
   ]
  },
  {
   "cell_type": "code",
   "execution_count": 169,
   "metadata": {},
   "outputs": [],
   "source": []
  },
  {
   "cell_type": "code",
   "execution_count": 7,
   "metadata": {},
   "outputs": [],
   "source": [
    "fpmn = np.load('filtered_pmn_no_interpolation_recalculated.npy')"
   ]
  },
  {
   "cell_type": "code",
   "execution_count": 157,
   "metadata": {},
   "outputs": [
    {
     "data": {
      "text/plain": [
       "<matplotlib.image.AxesImage at 0x266c368c710>"
      ]
     },
     "execution_count": 157,
     "metadata": {},
     "output_type": "execute_result"
    }
   ],
   "source": [
    "plt.imshow(ftest2[250])"
   ]
  },
  {
   "cell_type": "code",
   "execution_count": 92,
   "metadata": {},
   "outputs": [],
   "source": [
    "from skimage.transform import rotate"
   ]
  },
  {
   "cell_type": "code",
   "execution_count": 172,
   "metadata": {},
   "outputs": [
    {
     "name": "stderr",
     "output_type": "stream",
     "text": [
      "C:\\Users\\6jw\\AppData\\Local\\Continuum\\anaconda3\\lib\\site-packages\\numpy\\core\\_methods.py:29: RuntimeWarning: invalid value encountered in reduce\n",
      "  return umr_minimum(a, axis, None, out, keepdims)\n",
      "C:\\Users\\6jw\\AppData\\Local\\Continuum\\anaconda3\\lib\\site-packages\\numpy\\core\\_methods.py:26: RuntimeWarning: invalid value encountered in reduce\n",
      "  return umr_maximum(a, axis, None, out, keepdims)\n"
     ]
    },
    {
     "data": {
      "text/plain": [
       "[<matplotlib.lines.Line2D at 0x266d6a96a58>,\n",
       " <matplotlib.lines.Line2D at 0x266d6a96ba8>,\n",
       " <matplotlib.lines.Line2D at 0x266d6a9e080>]"
      ]
     },
     "execution_count": 172,
     "metadata": {},
     "output_type": "execute_result"
    }
   ],
   "source": [
    "# Rotate 45 degrees to align row with diffuse\n",
    "# View row 302\n",
    "# Unfiltered data\n",
    "a = rotate(pmn[250], 45)[302]\n",
    "# Filtered data\n",
    "b = rotate(ftest[250], 45)[302]\n",
    "c = rotate(test2[250], 45)[302]\n",
    "\n",
    "plt.plot(a, 'r', b, 'g', c, 'b')"
   ]
  },
  {
   "cell_type": "code",
   "execution_count": 163,
   "metadata": {},
   "outputs": [
    {
     "data": {
      "text/plain": [
       "<matplotlib.image.AxesImage at 0x266cad20eb8>"
      ]
     },
     "execution_count": 163,
     "metadata": {},
     "output_type": "execute_result"
    }
   ],
   "source": [
    "plt.imshow(rotate(fpmn[250], 45))"
   ]
  },
  {
   "cell_type": "code",
   "execution_count": 173,
   "metadata": {},
   "outputs": [
    {
     "data": {
      "text/plain": [
       "<matplotlib.image.AxesImage at 0x266d6b004e0>"
      ]
     },
     "execution_count": 173,
     "metadata": {},
     "output_type": "execute_result"
    }
   ],
   "source": [
    "plt.subplot(1, 2, 1)\n",
    "#plt.subplot(1, 3, 1)\n",
    "plt.imshow(ftest[250], cmap = 'viridis')\n",
    "plt.subplot(1, 2, 2)\n",
    "#plt.subplot(1, 3, 2)\n",
    "plt.imshow(test2[250], cmap = 'viridis')\n",
    "#plt.subplot(1, 3, 3)\n",
    "#plt.imshow(fpmn3[250], cmap = 'viridis')"
   ]
  },
  {
   "cell_type": "code",
   "execution_count": null,
   "metadata": {},
   "outputs": [],
   "source": [
    "np.max(fnpmn)"
   ]
  },
  {
   "cell_type": "code",
   "execution_count": null,
   "metadata": {},
   "outputs": [],
   "source": []
  },
  {
   "cell_type": "code",
   "execution_count": 126,
   "metadata": {},
   "outputs": [
    {
     "data": {
      "text/plain": [
       "[<matplotlib.lines.Line2D at 0x265755b2240>,\n",
       " <matplotlib.lines.Line2D at 0x265755b2390>,\n",
       " <matplotlib.lines.Line2D at 0x265755b2828>]"
      ]
     },
     "execution_count": 126,
     "metadata": {},
     "output_type": "execute_result"
    }
   ],
   "source": [
    "plt.plot(pmn[250][250], 'r', ftest[250][250], 'g', mod5[250][250], 'b')"
   ]
  },
  {
   "cell_type": "code",
   "execution_count": 124,
   "metadata": {},
   "outputs": [
    {
     "data": {
      "text/plain": [
       "[<matplotlib.lines.Line2D at 0x13671276da0>,\n",
       " <matplotlib.lines.Line2D at 0x13671276ef0>,\n",
       " <matplotlib.lines.Line2D at 0x136712803c8>]"
      ]
     },
     "execution_count": 124,
     "metadata": {},
     "output_type": "execute_result"
    }
   ],
   "source": [
    "plt.plot(mf[250][250], 'r', htest[250][250], 'g', ftest[250][250], 'b')"
   ]
  },
  {
   "cell_type": "code",
   "execution_count": 49,
   "metadata": {},
   "outputs": [],
   "source": [
    "#ref = np.load('pmn_3d_patterson_recalculated.npy')\n",
    "#ft2 = ft_3d(ftest)\n",
    "#ft1 = ft_3d(fpmn)\n",
    "#m5ft = ft_3d(mod5)\n",
    "m9ft = ft_3d(mod9)\n",
    "#m95ft = ft_3d(mod95)\n",
    "#m97ft = ft_3d(mod97)\n",
    "#m99ft = ft_3d(mod99)\n",
    "#m911ft = ft_3d(mod911)\n",
    "#m10ft = ft_3d(mod10)\n",
    "#mft1 = ft_3d(test)\n",
    "#mft2 = ft_3d(ftest)\n"
   ]
  },
  {
   "cell_type": "code",
   "execution_count": 40,
   "metadata": {},
   "outputs": [],
   "source": []
  },
  {
   "cell_type": "code",
   "execution_count": 50,
   "metadata": {},
   "outputs": [],
   "source": [
    "mask = np.ones((501,501, 501))\n",
    "mask[248:253, 248:253, 248:253] = 0"
   ]
  },
  {
   "cell_type": "code",
   "execution_count": 51,
   "metadata": {},
   "outputs": [],
   "source": [
    "#t1 = np.multiply(ft1, mask)\n",
    "#ft2 = np.multiply(ft2, mask)\n",
    "#ft3 = np.multiply(ft3, mask)\n",
    "#mft = np.multiply(mft, mask)\n",
    "#mft1 = np.multiply(mft1, mask)\n",
    "#mft2 = np.multiply(mft2, mask)\n",
    "#ef = np.multiply(ref, mask)\n",
    "#m5ft = np.multiply(m5ft, mask)\n",
    "m9ft = np.multiply(m9ft, mask)\n",
    "#m95ft = np.multiply(m95ft, mask)\n",
    "#m97ft = np.multiply(m97ft, mask)\n",
    "#m99ft = np.multiply(m99ft, mask)\n",
    "#m911ft = np.multiply(m911ft, mask)\n",
    "#m10ft = np.multiply(m10ft, mask)"
   ]
  },
  {
   "cell_type": "code",
   "execution_count": 52,
   "metadata": {},
   "outputs": [],
   "source": [
    "np.save('benzil 300K, mod_9_hampel.npy', np.real(m9ft))\n",
    "np.save('benzil 300K, mod_9_hampel, cropped.npy', np.real(m9ft)[200:300, 200:300, 200:300])"
   ]
  },
  {
   "cell_type": "code",
   "execution_count": 14,
   "metadata": {},
   "outputs": [],
   "source": [
    "from skimage import exposure"
   ]
  },
  {
   "cell_type": "code",
   "execution_count": 18,
   "metadata": {},
   "outputs": [
    {
     "data": {
      "text/plain": [
       "<matplotlib.image.AxesImage at 0x1b657eeb8d0>"
      ]
     },
     "execution_count": 18,
     "metadata": {},
     "output_type": "execute_result"
    }
   ],
   "source": [
    "a = np.real(ref)[250]\n",
    "b = np.real(m9ft)[250]\n",
    "#c = np.real(ft3)[250]\n",
    "plt.subplot(1, 2, 1)\n",
    "plt.imshow(a, cmap = 'magma')\n",
    "plt.subplot(1, 2, 2)\n",
    "plt.imshow(b, cmap = 'magma')\n",
    "#plt.subplot(1, 3, 3)\n",
    "#plt.imshow(exposure.equalize_hist(c), cmap = 'magma')"
   ]
  },
  {
   "cell_type": "code",
   "execution_count": 66,
   "metadata": {},
   "outputs": [
    {
     "data": {
      "text/plain": [
       "<matplotlib.image.AxesImage at 0x26312693b00>"
      ]
     },
     "execution_count": 66,
     "metadata": {},
     "output_type": "execute_result"
    }
   ],
   "source": [
    "plt.imshow(np.real(ft2)[250])"
   ]
  },
  {
   "cell_type": "code",
   "execution_count": null,
   "metadata": {},
   "outputs": [],
   "source": []
  },
  {
   "cell_type": "code",
   "execution_count": 26,
   "metadata": {},
   "outputs": [
    {
     "data": {
      "text/plain": [
       "<matplotlib.colorbar.Colorbar at 0x295dd53c6a0>"
      ]
     },
     "execution_count": 26,
     "metadata": {},
     "output_type": "execute_result"
    }
   ],
   "source": [
    "a = np.real(m911ft)[250]\n",
    "#c = np.real(ft3)[250]\n",
    "plt.imshow(a, cmap = 'coolwarm')\n",
    "plt.title('modified hampel filter 9, moving window 11x11x11')\n",
    "plt.colorbar()"
   ]
  },
  {
   "cell_type": "code",
   "execution_count": 47,
   "metadata": {},
   "outputs": [
    {
     "data": {
      "text/plain": [
       "[<matplotlib.lines.Line2D at 0x295fb4a2208>,\n",
       " <matplotlib.lines.Line2D at 0x295fb4ca048>,\n",
       " <matplotlib.lines.Line2D at 0x295fb4ca4e0>]"
      ]
     },
     "execution_count": 47,
     "metadata": {},
     "output_type": "execute_result"
    }
   ],
   "source": [
    "a = np.real(m9ft)[250][270]\n",
    "b = np.real(m95ft)[250][270]\n",
    "c = np.real(m97ft)[250][270]\n",
    "d = np.real(m99ft)[250][270]\n",
    "e = np.real(m911ft)[250][270]\n",
    "#c = np.real(ft3)[250][270]\n",
    "red_patch = mpatches.Patch(color = 'red', label = '3x3x3')\n",
    "green_patch = mpatches.Patch(color = 'green', label = '5x5x5')\n",
    "blue_patch = mpatches.Patch(color = 'blue', label = '7x7x7')\n",
    "plt.legend(handles = [red_patch, green_patch, blue_patch])\n",
    "plt.title('Slice through 3d patterson, [250][270]')\n",
    "plt.plot(a, 'b', b, 'r', c, 'g')"
   ]
  },
  {
   "cell_type": "code",
   "execution_count": 41,
   "metadata": {},
   "outputs": [
    {
     "data": {
      "text/plain": [
       "[<matplotlib.lines.Line2D at 0x295e71043c8>,\n",
       " <matplotlib.lines.Line2D at 0x295e710b278>]"
      ]
     },
     "execution_count": 41,
     "metadata": {},
     "output_type": "execute_result"
    }
   ],
   "source": [
    "a = np.real(m9ft)[250][270]\n",
    "b = np.real(m95ft)[250][270]\n",
    "a = np.divide(a, np.max(a))\n",
    "b = np.divide(b, np.max(b))\n",
    "#c = np.real(ft3)[250][270]\n",
    "red_patch = mpatches.Patch(color = 'red', label = '3x3x3')\n",
    "green_patch = mpatches.Patch(color = 'green', label = '5x5x5')\n",
    "plt.legend(handles = [red_patch, green_patch])\n",
    "plt.title('Slice through 3d patterson, [250][270]')\n",
    "plt.plot(a, 'r', b, 'g')"
   ]
  },
  {
   "cell_type": "code",
   "execution_count": 19,
   "metadata": {},
   "outputs": [
    {
     "data": {
      "text/plain": [
       "<matplotlib.colorbar.Colorbar at 0x1b6590c01d0>"
      ]
     },
     "execution_count": 19,
     "metadata": {},
     "output_type": "execute_result"
    }
   ],
   "source": [
    "a = np.real(ref)[250]\n",
    "b = np.real(m9ft)[250]\n",
    "#c = np.real(ft3)[250]\n",
    "plt.subplot(1, 2, 1)\n",
    "plt.imshow(a, cmap = 'coolwarm')\n",
    "#plt.title('modified hampel filter 1')\n",
    "plt.colorbar()\n",
    "plt.subplot(1, 2, 2)\n",
    "plt.imshow(b, cmap = 'coolwarm')\n",
    "#plt.title('modified hampel filter 9')\n",
    "plt.colorbar()\n",
    "#plt.subplot(1, 3, 3)\n",
    "#plt.imshow(c, cmap = 'viridis')"
   ]
  },
  {
   "cell_type": "code",
   "execution_count": 28,
   "metadata": {},
   "outputs": [],
   "source": [
    "import matplotlib.patches as mpatches"
   ]
  },
  {
   "cell_type": "code",
   "execution_count": 17,
   "metadata": {},
   "outputs": [
    {
     "data": {
      "text/plain": [
       "[<matplotlib.lines.Line2D at 0x2557fb116d8>,\n",
       " <matplotlib.lines.Line2D at 0x2557fb1e5f8>]"
      ]
     },
     "execution_count": 17,
     "metadata": {},
     "output_type": "execute_result"
    }
   ],
   "source": [
    "a = np.real(ref)[250][270]\n",
    "b = np.real(m9ft)[250][270]\n",
    "#c = np.real(ft3)[250][270]\n",
    "red_patch = mpatches.Patch(color = 'red', label = 'modified hampel 1')\n",
    "green_patch = mpatches.Patch(color = 'green', label = 'modified hampel 9')\n",
    "plt.legend(handles = [red_patch, green_patch])\n",
    "plt.title('Slice through 3d patterson, [250][270]')\n",
    "plt.plot(a, 'r', b, 'g')#, c, 'b')"
   ]
  },
  {
   "cell_type": "code",
   "execution_count": 21,
   "metadata": {},
   "outputs": [],
   "source": [
    "np.save('pmn, mod_9_hampel.npy', np.real(m9ft))\n",
    "np.save('pmn, mod_9_hampel, cropped.npy', np.real(m9ft)[200:300, 200:300, 200:300])"
   ]
  },
  {
   "cell_type": "code",
   "execution_count": 148,
   "metadata": {},
   "outputs": [
    {
     "data": {
      "text/plain": [
       "[<matplotlib.lines.Line2D at 0x13670f772e8>,\n",
       " <matplotlib.lines.Line2D at 0x13670f77208>]"
      ]
     },
     "execution_count": 148,
     "metadata": {},
     "output_type": "execute_result"
    }
   ],
   "source": [
    "plt.plot(fpmn[250][250], 'r', ftest[250][250], 'g')\n",
    "plt.plot(fpmn[250][250], 'r', ftest[250][250], 'g', marker = '.')"
   ]
  },
  {
   "cell_type": "code",
   "execution_count": 87,
   "metadata": {},
   "outputs": [],
   "source": [
    "fpmn = np.load('filtered_pmn_no_interpolation_recalculated.npy')"
   ]
  },
  {
   "cell_type": "code",
   "execution_count": 82,
   "metadata": {},
   "outputs": [
    {
     "name": "stdout",
     "output_type": "stream",
     "text": [
      "255.91649913787842\n"
     ]
    }
   ],
   "source": [
    "import time\n",
    "start = time.time()\n",
    "rpmn = mod_3d_hampel(pmn, 9)\n",
    "stop = time.time()\n",
    "print (stop-start)"
   ]
  },
  {
   "cell_type": "code",
   "execution_count": 97,
   "metadata": {},
   "outputs": [
    {
     "name": "stdout",
     "output_type": "stream",
     "text": [
      "7min 15s ± 2.3 s per loop (mean ± std. dev. of 7 runs, 1 loop each)\n"
     ]
    }
   ],
   "source": [
    "timeit(mod_3d_hampel(pmn, 11))"
   ]
  },
  {
   "cell_type": "code",
   "execution_count": 15,
   "metadata": {},
   "outputs": [],
   "source": [
    "test1 = pmn[225:275, 225:275, 225:275]\n",
    "test2 = fpmn[225:275, 225:275, 225:275]"
   ]
  },
  {
   "cell_type": "code",
   "execution_count": 69,
   "metadata": {},
   "outputs": [],
   "source": [
    "test3 = mod_3d_hampel(test1,21)"
   ]
  },
  {
   "cell_type": "code",
   "execution_count": 46,
   "metadata": {},
   "outputs": [
    {
     "data": {
      "text/plain": [
       "0.0"
      ]
     },
     "execution_count": 46,
     "metadata": {},
     "output_type": "execute_result"
    }
   ],
   "source": [
    "np.sum(rpmn[249])"
   ]
  },
  {
   "cell_type": "code",
   "execution_count": 84,
   "metadata": {},
   "outputs": [
    {
     "data": {
      "text/plain": [
       "[<matplotlib.lines.Line2D at 0x290f051a208>,\n",
       " <matplotlib.lines.Line2D at 0x290f051a6d8>]"
      ]
     },
     "execution_count": 84,
     "metadata": {},
     "output_type": "execute_result"
    }
   ],
   "source": [
    "plt.plot(rpmn[250][250], 'r', fpmn[250][250], 'g')"
   ]
  },
  {
   "cell_type": "code",
   "execution_count": 83,
   "metadata": {},
   "outputs": [
    {
     "data": {
      "text/plain": [
       "<matplotlib.image.AxesImage at 0x290f022d208>"
      ]
     },
     "execution_count": 83,
     "metadata": {},
     "output_type": "execute_result"
    }
   ],
   "source": [
    "plt.imshow(rpmn[250])"
   ]
  },
  {
   "cell_type": "code",
   "execution_count": 85,
   "metadata": {},
   "outputs": [],
   "source": [
    "ft2 = ft_3d(rpmn)"
   ]
  },
  {
   "cell_type": "code",
   "execution_count": 95,
   "metadata": {},
   "outputs": [
    {
     "name": "stderr",
     "output_type": "stream",
     "text": [
      "C:\\Users\\6jw\\AppData\\Local\\Continuum\\anaconda3\\lib\\site-packages\\numpy\\core\\numeric.py:492: ComplexWarning: Casting complex values to real discards the imaginary part\n",
      "  return array(a, dtype, copy=False, order=order)\n"
     ]
    },
    {
     "data": {
      "text/plain": [
       "[<matplotlib.lines.Line2D at 0x2911d70b860>,\n",
       " <matplotlib.lines.Line2D at 0x2911d70b9b0>]"
      ]
     },
     "execution_count": 95,
     "metadata": {},
     "output_type": "execute_result"
    }
   ],
   "source": [
    "plt.plot(ft1[250][240], 'r', ft2[250][240], 'g')"
   ]
  },
  {
   "cell_type": "code",
   "execution_count": 90,
   "metadata": {},
   "outputs": [
    {
     "data": {
      "text/plain": [
       "<matplotlib.image.AxesImage at 0x290eea166a0>"
      ]
     },
     "execution_count": 90,
     "metadata": {},
     "output_type": "execute_result"
    }
   ],
   "source": [
    "plt.imshow(exposure.equalize_hist(np.real(ft2[250])))"
   ]
  },
  {
   "cell_type": "code",
   "execution_count": 89,
   "metadata": {},
   "outputs": [
    {
     "data": {
      "text/plain": [
       "<matplotlib.image.AxesImage at 0x290e13203c8>"
      ]
     },
     "execution_count": 89,
     "metadata": {},
     "output_type": "execute_result"
    }
   ],
   "source": [
    "plt.imshow(np.real(ft2[250]), cmap = 'coolwarm')"
   ]
  },
  {
   "cell_type": "code",
   "execution_count": 7,
   "metadata": {},
   "outputs": [],
   "source": []
  },
  {
   "cell_type": "code",
   "execution_count": 24,
   "metadata": {},
   "outputs": [
    {
     "data": {
      "text/plain": [
       "[<matplotlib.lines.Line2D at 0x1be56b301d0>,\n",
       " <matplotlib.lines.Line2D at 0x1be56b306a0>]"
      ]
     },
     "execution_count": 24,
     "metadata": {},
     "output_type": "execute_result"
    }
   ],
   "source": [
    "plt.plot(test[245][250], 'r', fpmn[245][250], 'g')"
   ]
  },
  {
   "cell_type": "code",
   "execution_count": 8,
   "metadata": {},
   "outputs": [],
   "source": [
    "dumb = ft_3d(test)"
   ]
  },
  {
   "cell_type": "code",
   "execution_count": 88,
   "metadata": {},
   "outputs": [],
   "source": [
    "ft1 = ft_3d(fpmn)\n",
    "#ft2 = ft_3d(f2pmn)\n",
    "#ft3 = ft_3d(fpmn2)"
   ]
  },
  {
   "cell_type": "code",
   "execution_count": 22,
   "metadata": {
    "scrolled": true
   },
   "outputs": [
    {
     "name": "stderr",
     "output_type": "stream",
     "text": [
      "C:\\Users\\6jw\\AppData\\Local\\Continuum\\anaconda3\\lib\\site-packages\\numpy\\core\\numeric.py:492: ComplexWarning: Casting complex values to real discards the imaginary part\n",
      "  return array(a, dtype, copy=False, order=order)\n"
     ]
    },
    {
     "data": {
      "text/plain": [
       "[<matplotlib.lines.Line2D at 0x1be94287518>,\n",
       " <matplotlib.lines.Line2D at 0x1be942879e8>]"
      ]
     },
     "execution_count": 22,
     "metadata": {},
     "output_type": "execute_result"
    }
   ],
   "source": [
    "#plt.plot(ft1[250][250], 'r', ft2[250][250], 'g',  ft3[250][250], 'b')\n",
    "plt.plot(ft1[250][250], 'r', dumb[250][250], 'g')"
   ]
  },
  {
   "cell_type": "code",
   "execution_count": 21,
   "metadata": {},
   "outputs": [
    {
     "data": {
      "text/plain": [
       "<matplotlib.image.AxesImage at 0x1be568c8c18>"
      ]
     },
     "execution_count": 21,
     "metadata": {},
     "output_type": "execute_result"
    }
   ],
   "source": [
    "plt.imshow(exposure.equalize_hist(np.real(dumb[250])))"
   ]
  },
  {
   "cell_type": "code",
   "execution_count": 21,
   "metadata": {},
   "outputs": [],
   "source": []
  },
  {
   "cell_type": "code",
   "execution_count": 90,
   "metadata": {},
   "outputs": [],
   "source": [
    "ft1 = np.multiply(ft1, mask)\n",
    "#ft2 = np.multiply(ft2, mask)\n",
    "#ft3 = np.multiply(ft3, mask)\n",
    "dumb = np.multiply(dumb, mask)"
   ]
  },
  {
   "cell_type": "code",
   "execution_count": 17,
   "metadata": {},
   "outputs": [
    {
     "data": {
      "text/plain": [
       "<matplotlib.colorbar.Colorbar at 0x1be9424bbe0>"
      ]
     },
     "execution_count": 17,
     "metadata": {},
     "output_type": "execute_result"
    }
   ],
   "source": [
    "plt.subplot(1, 2, 1)\n",
    "#plt.subplot(1, 3, 1)\n",
    "plt.imshow(np.real(ft1[250]), cmap = 'magma')\n",
    "plt.colorbar()\n",
    "plt.subplot(1, 2, 2)\n",
    "plt.imshow(np.real(dumb[250]), cmap = 'magma')\n",
    "plt.colorbar()\n",
    "#plt.subplot(1, 3, 2)\n",
    "#plt.imshow(np.real(ft2[250]), cmap = 'magma')\n",
    "#plt.colorbar()\n",
    "#plt.subplot(1, 3, 3)\n",
    "#plt.imshow(np.real(ft3[250]), cmap = 'magma')\n",
    "#plt.colorbar()"
   ]
  },
  {
   "cell_type": "code",
   "execution_count": 150,
   "metadata": {},
   "outputs": [],
   "source": [
    "dumb = np.multiply(dumb, mask)"
   ]
  },
  {
   "cell_type": "code",
   "execution_count": 67,
   "metadata": {},
   "outputs": [
    {
     "data": {
      "text/plain": [
       "<matplotlib.image.AxesImage at 0x1beafe32978>"
      ]
     },
     "execution_count": 67,
     "metadata": {},
     "output_type": "execute_result"
    }
   ],
   "source": [
    "plt.imshow(np.real(dumb[250]), cmap = 'magma')"
   ]
  },
  {
   "cell_type": "code",
   "execution_count": 91,
   "metadata": {},
   "outputs": [],
   "source": [
    "np.save('pmn_3d_patterson_center_mask_real, cropped.npy', np.real(ft1)[200:300, 200:300, 200:300])"
   ]
  },
  {
   "cell_type": "code",
   "execution_count": 86,
   "metadata": {},
   "outputs": [
    {
     "data": {
      "text/plain": [
       "<matplotlib.image.AxesImage at 0x1be947d03c8>"
      ]
     },
     "execution_count": 86,
     "metadata": {},
     "output_type": "execute_result"
    }
   ],
   "source": [
    "plt.imshow(np.real(ft1)[250])"
   ]
  },
  {
   "cell_type": "code",
   "execution_count": 79,
   "metadata": {},
   "outputs": [],
   "source": [
    "dto = np.load('dto_H1.2T_patterson.npy')"
   ]
  },
  {
   "cell_type": "code",
   "execution_count": 94,
   "metadata": {},
   "outputs": [],
   "source": [
    "np.save('dto_H1.2T_patterson_real, cropped', np.multiply(np.real(dto), mask)[200:300,200:300,200:300])"
   ]
  },
  {
   "cell_type": "code",
   "execution_count": 96,
   "metadata": {},
   "outputs": [],
   "source": [
    "benz = np.load('benzil_300k_3d_patterson.npy')"
   ]
  },
  {
   "cell_type": "code",
   "execution_count": 97,
   "metadata": {},
   "outputs": [],
   "source": [
    "np.save('benzil_300k_patterson_real, cropped', np.multiply(np.real(benz), mask)[200:300,200:300,200:300])"
   ]
  },
  {
   "cell_type": "code",
   "execution_count": null,
   "metadata": {},
   "outputs": [],
   "source": []
  },
  {
   "cell_type": "code",
   "execution_count": null,
   "metadata": {},
   "outputs": [],
   "source": []
  },
  {
   "cell_type": "code",
   "execution_count": null,
   "metadata": {},
   "outputs": [],
   "source": []
  },
  {
   "cell_type": "code",
   "execution_count": null,
   "metadata": {},
   "outputs": [],
   "source": []
  }
 ],
 "metadata": {
  "kernelspec": {
   "display_name": "Python 3",
   "language": "python",
   "name": "python3"
  },
  "language_info": {
   "codemirror_mode": {
    "name": "ipython",
    "version": 3
   },
   "file_extension": ".py",
   "mimetype": "text/x-python",
   "name": "python",
   "nbconvert_exporter": "python",
   "pygments_lexer": "ipython3",
   "version": "3.6.4"
  }
 },
 "nbformat": 4,
 "nbformat_minor": 2
}
