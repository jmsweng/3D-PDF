{
 "cells": [
  {
   "cell_type": "code",
   "execution_count": null,
   "metadata": {},
   "outputs": [],
   "source": [
    "# Quick implementation of a punch and fill algorithm to remove bragg peaks"
   ]
  },
  {
   "cell_type": "code",
   "execution_count": 41,
   "metadata": {},
   "outputs": [],
   "source": [
    "import numpy as np\n",
    "import matplotlib.pyplot as plt\n",
    "from numba import jit, autojit, prange\n",
    "from scipy.ndimage.filters import convolve\n",
    "# Disable inline plots\n",
    "#%matplotlib qt"
   ]
  },
  {
   "cell_type": "code",
   "execution_count": 17,
   "metadata": {},
   "outputs": [],
   "source": [
    "# Pad dataset before filter based on window provided\n",
    "# Give data set (d_set), and window width (x)\n",
    "# Needs numpy as np\n",
    "@jit\n",
    "def winpad(d_set, x):\n",
    "    if (x % 2 == 0): # Check if window is even\n",
    "        raise Exception('Window width must be odd!')\n",
    "    rad = np.int(np.floor(x/2)) # Calculate radius of window given\n",
    "    pad = np.pad(d_set, rad, 'edge')\n",
    "    return pad\n",
    "\n",
    "# Does a 1D ft, doesn't need to be rolled over\n",
    "@jit\n",
    "def ft(signal):\n",
    "    return np.fft.fftshift(np.fft.fftn(np.fft.ifftshift(signal)))\n",
    "# Fourier transform 2D slices of an image\n",
    "@jit\n",
    "def ft_slices(data):\n",
    "    shape = np.shape(data) # Get shape of input data\n",
    "    fslices = np.zeros(shape, dtype = np.complex_) # Array of complex zeros with same shape as input data\n",
    "    l1 = shape[0] # Number of 2D slices through 3D volume\n",
    "    for i in range (0, l1):\n",
    "        fslices[i] = ft(data[i]) # Assign FT of individual slices to corresponding slice in zero array\n",
    "        #print(i, end = ' ') # Testing counter printout\n",
    "    return fslices\n",
    "# Take FT of columns through 2D slices\n",
    "@jit\n",
    "def ft_columns(data):\n",
    "    shape = np.shape(data) # Get shape of input data\n",
    "    out = np.zeros(shape, dtype = np.complex_) # Array of complex zeros with same shape as input data\n",
    "    l1 = shape[0] # Total number of loops for y dim\n",
    "    l2 = shape[1] # Total number of loops for z dim\n",
    "    for i in range (0, l1): # Loop through y\n",
    "        for j in range (0, l2): # Loop through z\n",
    "            out[:, i, j] = ft(data[:, i, j]) # Assign FT through x axis to corresponding region of zero array\n",
    "        #print (i, end = ' ') # Testing counter printout\n",
    "    return out\n",
    "# Take 3D FT by taking FT of 2D slices through an image and then 1D columns perpendicular to slices\n",
    "@jit\n",
    "def ft_3d(data):\n",
    "    slices = ft_slices(data)\n",
    "    cols = ft_columns(slices)\n",
    "    return cols\n",
    "# Generates a gaussian window centered in the image with given input sigma\n",
    "# Pixels in image are mapped from -2 to 2\n",
    "# Does not drop off to 0 at edges, maybe fix, probably doesn't actually matter\n",
    "def gauss_win_3d(width, sigma):\n",
    "    rng = 2\n",
    "    x, y, z = np.meshgrid(np.linspace(-rng,rng,width), np.linspace(-rng,rng,width), np.linspace(-rng,rng,width))\n",
    "    d = np.sqrt(x*x+y*y+z*z) # generate matrix of distances\n",
    "    mu = 0 # Make gaussian centered in image\n",
    "    g = np.exp(-( (d-mu)**2 / ( 2.0 * sigma**2 ) ) ) # Map gaussian over distance matrix\n",
    "    #cent = np.int(np.ceil(width/2)) # Get center row \n",
    "    #minval = np.min(g[cent]) # Get minimum value from center row of image\n",
    "    #g = np.subtract(g, minval) # Subtract minimum value from gaussian image to shift ends to zero\n",
    "    #g[g < 0] = 0 # Set any negative values in gaussian mask to 0\n",
    "    \n",
    "    return g\n",
    "# Punch out bragg peaks by setting value to 0\n",
    "# Bragg peaks are located as outliers in some moving window\n",
    "from numba import autojit, prange\n",
    "@jit(parallel=True)\n",
    "def punch(d_set, width):\n",
    "    if (width % 2 == 0): # Check if window is even\n",
    "        raise Exception('Window width must be odd!')\n",
    "    shape = np.shape(d_set) # Get shape of input data set\n",
    "    winrad = np.floor(np.divide(width, 2)) # Window radius\n",
    "    out = np.zeros(shape) # Generate set of zeros same shape as input data set\n",
    "    # Remove nans from center of image\n",
    "    # This might not actually be necessary\n",
    "    rad = (shape[0]/2)*0.1 # Radius for center region to remove nans from, ~10% of total volume width\n",
    "    a, b = shape[0]/2-rad, shape[0]/2+rad # Bounds for center region to remove nans\n",
    "    a=int(a) # Change to int values\n",
    "    b=int(b) \n",
    "    d_set[a:b, a:b, a:b] = np.nan_to_num(d_set[a:b, a:b, a:b]) # Remove nans from center of volume\n",
    "    x_pos, y_pos, z_pos = np.where(np.isfinite(d_set)) # Get location of finite values (pixels to be filtered)\n",
    "    # Remove nans and very large positive/negative values before filtering\n",
    "    d_set = np.nan_to_num(d_set)\n",
    "    d_set[d_set>1e+100]=0\n",
    "    d_set[d_set<1e-100]=0\n",
    "    # Create padded data set to avoid windowing issues with values at edge\n",
    "    temp = winpad(d_set, width)\n",
    "    # Get loop length by taking length of list of pixels to be filtered\n",
    "    length = len(x_pos)\n",
    "    # Apply filter over pixels\n",
    "    for i in prange (0, length):\n",
    "        x, y, z = x_pos[i], y_pos[i], z_pos[i]\n",
    "        # Outlier detection, basically the same as is_outlier_mm function\n",
    "        # Only here to reduce overhead from function calls\n",
    "        dat = temp[x:x+width, y:y+width, z:z+width]\n",
    "        val = d_set[x, y, z]\n",
    "        med = np.median(dat) # Get median of input data set\n",
    "        mean = np.mean(np.concatenate((dat[0:winrad], dat[winrad+1:]))) # Get mean of input data set without center value\n",
    "        mad = np.median(np.abs(dat- med)) # Get median absolute deviation\n",
    "        asigma = np.abs(mad*3*1.4826) # Absolute value of approximate sigma\n",
    "        if (med-asigma) < val < (med+asigma): # Check if value is outlier based on MAD\n",
    "            out[x, y, z] = val # Return value if it is not an outlier\n",
    "        else:\n",
    "            out[x, y, z] = 0 # Set value equal to zero if outlier detected\n",
    "            continue\n",
    "    \n",
    "    return out"
   ]
  },
  {
   "cell_type": "code",
   "execution_count": 14,
   "metadata": {},
   "outputs": [],
   "source": [
    "# Create gaussian window\n",
    "# g = gauss_win_3d(501, 0.85)\n",
    "g = np.load('gaussian window function.npy')\n",
    "# Load diffraction data\n",
    "pmn = np.load('PMN_normdata_48sym_300K.npy')\n",
    "# Multiply by window function\n",
    "pmn = np.multiply(pmn, g) \n",
    "del g"
   ]
  },
  {
   "cell_type": "code",
   "execution_count": 15,
   "metadata": {},
   "outputs": [],
   "source": [
    "# Punch out bragg peaks\n",
    "pdat = punch(pmn, 5)"
   ]
  },
  {
   "cell_type": "code",
   "execution_count": 21,
   "metadata": {},
   "outputs": [],
   "source": [
    "# Gaussian convolution kernel\n",
    "gk = gauss_win_3d(10, 1)\n",
    "# Convolve data set with removed bragg peaks with gaussian\n",
    "cdat = convolve(pdat, gk)"
   ]
  },
  {
   "cell_type": "code",
   "execution_count": 39,
   "metadata": {},
   "outputs": [
    {
     "data": {
      "text/plain": [
       "<matplotlib.image.AxesImage at 0x29d783dda58>"
      ]
     },
     "execution_count": 39,
     "metadata": {},
     "output_type": "execute_result"
    }
   ],
   "source": [
    "# Show slice of 3D volume\n",
    "plt.imshow(cdat[250])"
   ]
  },
  {
   "cell_type": "code",
   "execution_count": 40,
   "metadata": {},
   "outputs": [
    {
     "data": {
      "text/plain": [
       "[<matplotlib.lines.Line2D at 0x29d7c561e48>]"
      ]
     },
     "execution_count": 40,
     "metadata": {},
     "output_type": "execute_result"
    }
   ],
   "source": [
    "# Plot line through removed bragg peaks in slice of 3d volume\n",
    "plt.plot(cdat[250][270])"
   ]
  },
  {
   "cell_type": "code",
   "execution_count": 27,
   "metadata": {},
   "outputs": [],
   "source": [
    "# 3D fourier transform of data \n",
    "ft1 = ft_3d(cdat)"
   ]
  },
  {
   "cell_type": "code",
   "execution_count": 28,
   "metadata": {},
   "outputs": [
    {
     "data": {
      "text/plain": [
       "<matplotlib.image.AxesImage at 0x29e5efe4c50>"
      ]
     },
     "execution_count": 28,
     "metadata": {},
     "output_type": "execute_result"
    }
   ],
   "source": [
    "# Generate mask to remove center bright point in data set \n",
    "mask = np.ones((501,501, 501))\n",
    "mask[248:253, 248:253, 248:253] = 0\n",
    "# Multiply data set by mask \n",
    "ft1 = np.multiply(ft1, mask)"
   ]
  },
  {
   "cell_type": "code",
   "execution_count": 42,
   "metadata": {},
   "outputs": [
    {
     "data": {
      "text/plain": [
       "<matplotlib.colorbar.Colorbar at 0x29d7c60a2b0>"
      ]
     },
     "execution_count": 42,
     "metadata": {},
     "output_type": "execute_result"
    }
   ],
   "source": [
    "# Show slice through 3D PDF\n",
    "plt.imshow(np.real(ft1)[250], cmap = 'coolwarm')\n",
    "plt.title('punch and fill')\n",
    "plt.colorbar()"
   ]
  },
  {
   "cell_type": "code",
   "execution_count": 30,
   "metadata": {},
   "outputs": [],
   "source": []
  },
  {
   "cell_type": "code",
   "execution_count": 32,
   "metadata": {},
   "outputs": [],
   "source": []
  },
  {
   "cell_type": "code",
   "execution_count": 33,
   "metadata": {},
   "outputs": [],
   "source": []
  },
  {
   "cell_type": "code",
   "execution_count": 37,
   "metadata": {},
   "outputs": [
    {
     "data": {
      "text/plain": [
       "<matplotlib.colorbar.Colorbar at 0x29d78371518>"
      ]
     },
     "execution_count": 37,
     "metadata": {},
     "output_type": "execute_result"
    }
   ],
   "source": []
  },
  {
   "cell_type": "code",
   "execution_count": null,
   "metadata": {},
   "outputs": [],
   "source": []
  }
 ],
 "metadata": {
  "kernelspec": {
   "display_name": "Python 3",
   "language": "python",
   "name": "python3"
  },
  "language_info": {
   "codemirror_mode": {
    "name": "ipython",
    "version": 3
   },
   "file_extension": ".py",
   "mimetype": "text/x-python",
   "name": "python",
   "nbconvert_exporter": "python",
   "pygments_lexer": "ipython3",
   "version": "3.6.4"
  }
 },
 "nbformat": 4,
 "nbformat_minor": 2
}
